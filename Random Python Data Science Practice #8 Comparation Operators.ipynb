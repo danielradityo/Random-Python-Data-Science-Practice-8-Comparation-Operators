{
 "cells": [
  {
   "cell_type": "markdown",
   "metadata": {},
   "source": [
    "# Random Python Data Science Practice #8"
   ]
  },
  {
   "cell_type": "markdown",
   "metadata": {},
   "source": [
    "## Comparation Operators"
   ]
  },
  {
   "cell_type": "code",
   "execution_count": 2,
   "metadata": {},
   "outputs": [],
   "source": [
    "# Several Comparation Operators\n",
    "a = 7 # --> integer\n",
    "b = 5 # --> integer\n",
    "c = 7 # --> integer "
   ]
  },
  {
   "cell_type": "markdown",
   "metadata": {},
   "source": [
    "## Equal =="
   ]
  },
  {
   "cell_type": "code",
   "execution_count": 9,
   "metadata": {},
   "outputs": [
    {
     "name": "stdout",
     "output_type": "stream",
     "text": [
      "Are a equal to b? False\n",
      "Are a equal to c? True\n"
     ]
    }
   ],
   "source": [
    "print('Are a equal to b?', a == b) # --> Result equal comparation operators\n",
    "print('Are a equal to c?', a == c) # --> Result equal comparation operators"
   ]
  },
  {
   "cell_type": "markdown",
   "metadata": {},
   "source": [
    "## Not Equal !="
   ]
  },
  {
   "cell_type": "code",
   "execution_count": 10,
   "metadata": {},
   "outputs": [
    {
     "name": "stdout",
     "output_type": "stream",
     "text": [
      "Are a not equal to b? True\n",
      "Are a not equal to c? False\n"
     ]
    }
   ],
   "source": [
    "print('Are a not equal to b?', a != b) # --> Result not equal comparation operators\n",
    "print('Are a not equal to c?', a != c) # --> Result not equal comparation operators"
   ]
  },
  {
   "cell_type": "markdown",
   "metadata": {},
   "source": [
    "## Greater Than >"
   ]
  },
  {
   "cell_type": "code",
   "execution_count": 11,
   "metadata": {},
   "outputs": [
    {
     "name": "stdout",
     "output_type": "stream",
     "text": [
      "Are a greater than b? True\n",
      "Are a greater than c? False\n"
     ]
    }
   ],
   "source": [
    "print('Are a greater than b?', a > b) # --> Result greater than comparation operators\n",
    "print('Are a greater than c?', a > c) # --> Result greater than comparation operators"
   ]
  },
  {
   "cell_type": "markdown",
   "metadata": {},
   "source": [
    "## Greater Than Equal To >="
   ]
  },
  {
   "cell_type": "code",
   "execution_count": 12,
   "metadata": {},
   "outputs": [
    {
     "name": "stdout",
     "output_type": "stream",
     "text": [
      "Are a greater than equal to b? True\n",
      "Are a greater than equal to c? True\n"
     ]
    }
   ],
   "source": [
    "print('Are a greater than equal to b?', a >= b) # --> Result greater than equal to comparation operators\n",
    "print('Are a greater than equal to c?', a >= c) # --> Result greater than equal to comparation operators"
   ]
  },
  {
   "cell_type": "markdown",
   "metadata": {},
   "source": [
    "## Less Than <"
   ]
  },
  {
   "cell_type": "code",
   "execution_count": 13,
   "metadata": {},
   "outputs": [
    {
     "name": "stdout",
     "output_type": "stream",
     "text": [
      "Are a less than b? False\n",
      "Are a less than c? False\n"
     ]
    }
   ],
   "source": [
    "print('Are a less than b?', a < b) # --> Result less than comparation operators\n",
    "print('Are a less than c?', a < c) # --> Result less than comparation operators"
   ]
  },
  {
   "cell_type": "markdown",
   "metadata": {},
   "source": [
    "## Less Than Equal To <="
   ]
  },
  {
   "cell_type": "code",
   "execution_count": 14,
   "metadata": {},
   "outputs": [
    {
     "name": "stdout",
     "output_type": "stream",
     "text": [
      "Are a less than equal to b? False\n",
      "Are a less than equal to c? True\n"
     ]
    }
   ],
   "source": [
    "print('Are a less than equal to b?', a <= b) # --> Result less than equal to comparation operators\n",
    "print('Are a less than equal to c?', a <= c) # --> Result less than equal to comparation operators"
   ]
  },
  {
   "cell_type": "code",
   "execution_count": null,
   "metadata": {},
   "outputs": [],
   "source": []
  }
 ],
 "metadata": {
  "kernelspec": {
   "display_name": "Python 3",
   "language": "python",
   "name": "python3"
  },
  "language_info": {
   "codemirror_mode": {
    "name": "ipython",
    "version": 3
   },
   "file_extension": ".py",
   "mimetype": "text/x-python",
   "name": "python",
   "nbconvert_exporter": "python",
   "pygments_lexer": "ipython3",
   "version": "3.8.5"
  }
 },
 "nbformat": 4,
 "nbformat_minor": 4
}
